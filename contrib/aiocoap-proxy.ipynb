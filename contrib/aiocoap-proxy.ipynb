{
 "cells": [
  {
   "cell_type": "code",
   "execution_count": 1,
   "metadata": {
    "trusted": true
   },
   "outputs": [],
   "source": [
    "import micropip\n",
    "\n",
    "await micropip.install(\"aiocoap\")\n",
    "import aiocoap, aiocoap.proxy.client\n",
    "\n",
    "ctx = await aiocoap.Context.create_client_context()\n",
    "ctx = aiocoap.proxy.client.ProxyForwarder(\"coaps+ws://proxy.coap.amsuess.com\", ctx)"
   ]
  },
  {
   "cell_type": "code",
   "execution_count": 2,
   "metadata": {
    "trusted": true
   },
   "outputs": [
    {
     "name": "stdout",
     "output_type": "stream",
     "text": "Übergrößenträger = 特大の人 = 超大航母\n"
    }
   ],
   "source": [
    "req = aiocoap.Message(code=aiocoap.GET, uri=\"coap://coap.me/blåbærsyltetøy\")\n",
    "print((await ctx.request(req).response).payload.decode(\"utf8\"))"
   ]
  }
 ],
 "metadata": {
  "kernelspec": {
   "display_name": "Python (Pyodide)",
   "language": "python",
   "name": "python"
  },
  "language_info": {
   "codemirror_mode": {
    "name": "python",
    "version": 3
   },
   "file_extension": ".py",
   "mimetype": "text/x-python",
   "name": "python",
   "nbconvert_exporter": "python",
   "pygments_lexer": "ipython3",
   "version": "3.8"
  },
  "toc-autonumbering": false,
  "toc-showcode": false,
  "toc-showtags": false
 },
 "nbformat": 4,
 "nbformat_minor": 4
}
