{
 "cells": [
  {
   "cell_type": "markdown",
   "metadata": {},
   "source": "# Running EDHOC with the public demo server\n\nThis demo can be run on the public Jupyter instance at [try Jupyter](https://jupyter.org/try-jupyter/lab/index.html) by uploading this file."
  },
  {
   "cell_type": "code",
   "execution_count": 1,
   "metadata": {
    "trusted": true
   },
   "outputs": [],
   "source": [
    "import micropip, pyodide\n",
    "\n",
    "# The custom index has both the latest aiocoap and a current and compatible lakers-python.\n",
    "await micropip.install(\n",
    "    \"aiocoap[oscore,prettyprint]\", index_urls=[\"https://coap.amsuess.com\", \"PYPI\"]\n",
    ")"
   ]
  },
  {
   "cell_type": "code",
   "execution_count": 2,
   "metadata": {
    "trusted": true
   },
   "outputs": [],
   "source": [
    "import aiocoap, aiocoap.proxy.client\n",
    "from aiocoap import *\n",
    "\n",
    "ctx = await Context.create_client_context()"
   ]
  },
  {
   "cell_type": "code",
   "execution_count": 3,
   "metadata": {
    "trusted": true
   },
   "outputs": [],
   "source": [
    "for_demo = {\n",
    "    \"coap://demo.coap.amsuess.com/*\": {\n",
    "        \"edhoc-oscore\": {\n",
    "            \"suite\": 2,\n",
    "            \"method\": 3,\n",
    "            \"own_cred\": {\"unauthenticated\": True},\n",
    "            \"peer_cred\": {\n",
    "                14: {\n",
    "                    2: \"demo.coap.amsuess.com\",\n",
    "                    8: {\n",
    "                        1: {\n",
    "                            1: 2,\n",
    "                            2: b\"\\0\",\n",
    "                            -1: 1,\n",
    "                            -2: bytes.fromhex(\n",
    "                                \"b9cc746df6641d55044478b29df019ef22b4d2e96ffcf8de85434e5d0f27c33c\"\n",
    "                            ),\n",
    "                            -3: bytes.fromhex(\n",
    "                                \"e14e87330d093b469b121c3d0e4d9452cb90036a6e209f21f37d35d2a05c426c\"\n",
    "                            ),\n",
    "                        }\n",
    "                    },\n",
    "                }\n",
    "            },\n",
    "        }\n",
    "    }\n",
    "}\n",
    "ctx.client_credentials.load_from_dict(for_demo)"
   ]
  },
  {
   "cell_type": "code",
   "execution_count": null,
   "metadata": {
    "trusted": true
   },
   "outputs": [],
   "source": [
    "# Configure a proxy so that the demo can be run even from a\n",
    "ctx = aiocoap.proxy.client.ProxyForwarder(\"coaps+ws://proxy.coap.amsuess.com\", ctx)"
   ]
  },
  {
   "cell_type": "code",
   "execution_count": 10,
   "metadata": {
    "trusted": true
   },
   "outputs": [
    {
     "data": {
      "text/html": "<details style=\"padding-left:1em\"><summary style=\"margin-left:-1em;display:list-item;\">Message with code <abbr title=\"Successful Response Code 2.05\">CONTENT</abbr>, remote &lt;WSRemote at 0xd98518, hostinfo proxy.coap.amsuess.com, local localhost&gt;</summary>\n                <details><summary style=\"display:list-item\">1 option</summary><ol><li value=\"12\"><abbr title=\"option 12: elective, safe-to-forward, part of the cache key\">CONTENT_FORMAT</abbr>: <abbr title=\"Content format 0, named ContentFormat.TEXT\">text/plain; charset=utf-8</abbr></ol></details><code>b&#x27;Used protocol: coap.\\nRequest came from [2a01:4f8:190:3064::6]:36479.\\nThe server address used [2a01:4f8:190:3064::6].\\nNo claims authenticated.&#x27;</code>",
      "text/plain": "<aiocoap.Message at 0x2599900: no mtype, 2.05 Content (no MID, token 2f57) remote <WSRemote at 0xd98518, hostinfo proxy.coap.amsuess.com, local localhost>, 1 option(s), 141 byte(s) payload>"
     },
     "execution_count": 4,
     "metadata": {},
     "output_type": "execute_result"
    }
   ],
   "source": [
    "req = Message(code=GET, uri=\"coap://demo.coap.amsuess.com/whoami\")\n",
    "res = await ctx.request(req).response\n",
    "res"
   ]
  }
 ],
 "metadata": {
  "kernelspec": {
   "display_name": "Python (Pyodide)",
   "language": "python",
   "name": "python"
  },
  "language_info": {
   "codemirror_mode": {
    "name": "python",
    "version": 3
   },
   "file_extension": ".py",
   "mimetype": "text/x-python",
   "name": "python",
   "nbconvert_exporter": "python",
   "pygments_lexer": "ipython3",
   "version": "3.8"
  }
 },
 "nbformat": 4,
 "nbformat_minor": 4
}
